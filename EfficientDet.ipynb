{
 "cells": [
  {
   "cell_type": "markdown",
   "metadata": {},
   "source": [
    "# EfficientDet"
   ]
  },
  {
   "cell_type": "code",
   "execution_count": null,
   "metadata": {},
   "outputs": [
    {
     "name": "stdout",
     "output_type": "stream",
     "text": [
      "CUDA available: True\n",
      "loading annotations into memory...\n"
     ]
    }
   ],
   "source": [
    "!python3.7 train.py --dataset coco --coco_path ../../Datasets/COCO2017 --efficientdet"
   ]
  },
  {
   "cell_type": "code",
   "execution_count": 6,
   "metadata": {},
   "outputs": [
    {
     "name": "stdout",
     "output_type": "stream",
     "text": [
      "Requirement already satisfied: cython in /home/user/.local/lib/python3.7/site-packages (0.29.14)\n",
      "\u001b[33mYou are using pip version 18.1, however version 19.3.1 is available.\n",
      "You should consider upgrading via the 'pip install --upgrade pip' command.\u001b[0m\n",
      "Requirement already satisfied: pycocotools in /home/user/.local/lib/python3.7/site-packages (2.0.0)\n",
      "\u001b[33mYou are using pip version 18.1, however version 19.3.1 is available.\n",
      "You should consider upgrading via the 'pip install --upgrade pip' command.\u001b[0m\n",
      "Requirement already satisfied: efficientnet_pytorch in /home/user/.local/lib/python3.7/site-packages (0.5.1)\n",
      "Requirement already satisfied: torch in /usr/local/lib/python3.7/site-packages (from efficientnet_pytorch) (1.3.0)\n",
      "Requirement already satisfied: numpy in /usr/local/lib/python3.7/site-packages (from torch->efficientnet_pytorch) (1.15.3)\n",
      "\u001b[33mYou are using pip version 18.1, however version 19.3.1 is available.\n",
      "You should consider upgrading via the 'pip install --upgrade pip' command.\u001b[0m\n",
      "Collecting pthflops\n",
      "Requirement already satisfied: torch in /usr/local/lib/python3.7/site-packages (from pthflops) (1.3.0)\n",
      "Requirement already satisfied: numpy in /usr/local/lib/python3.7/site-packages (from torch->pthflops) (1.15.3)\n",
      "Installing collected packages: pthflops\n",
      "Successfully installed pthflops-0.2.1\n",
      "\u001b[33mYou are using pip version 18.1, however version 19.3.1 is available.\n",
      "You should consider upgrading via the 'pip install --upgrade pip' command.\u001b[0m\n"
     ]
    }
   ],
   "source": [
    "!pip3 install cython --user\n",
    "!pip3 install pycocotools --user\n",
    "!pip3 install efficientnet_pytorch --user\n",
    "!pip3 install pthflops --user"
   ]
  },
  {
   "cell_type": "code",
   "execution_count": null,
   "metadata": {},
   "outputs": [],
   "source": []
  }
 ],
 "metadata": {
  "kernelspec": {
   "display_name": "Python 3",
   "language": "python",
   "name": "python3"
  },
  "language_info": {
   "codemirror_mode": {
    "name": "ipython",
    "version": 3
   },
   "file_extension": ".py",
   "mimetype": "text/x-python",
   "name": "python",
   "nbconvert_exporter": "python",
   "pygments_lexer": "ipython3",
   "version": "3.7.1"
  }
 },
 "nbformat": 4,
 "nbformat_minor": 4
}
