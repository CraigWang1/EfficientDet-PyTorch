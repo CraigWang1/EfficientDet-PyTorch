{
 "cells": [
  {
   "cell_type": "markdown",
   "metadata": {},
   "source": [
    "# EfficientDet"
   ]
  },
  {
   "cell_type": "code",
   "execution_count": 38,
   "metadata": {},
   "outputs": [
    {
     "name": "stdout",
     "output_type": "stream",
     "text": [
      "CUDA available: True\n",
      "loading annotations into memory...\n",
      "Done (t=23.69s)\n",
      "creating index...\n",
      "index created!\n",
      "loading annotations into memory...\n",
      "Done (t=1.30s)\n",
      "creating index...\n",
      "index created!\n",
      "Num training images: 118287\n",
      "  0%|                                                 | 0/19715 [00:00<?, ?it/s]'forward'  507.17 ms\n",
      "11.6G | 1.86700 | 1.04198 | 2.90898:   0%| | 1/19715 [00:03<19:38:20,  3.59s/it]'forward'  587.13 ms\n",
      "11.6G | 1.66551 | 1.05711 | 2.81580:   0%| | 2/19715 [00:05<16:28:18,  3.01s/it]'forward'  381.47 ms\n",
      "11.6G | 2.43859 | 1.04406 | 3.03808:   0%| | 3/19715 [00:06<13:55:28,  2.54s/it]'forward'  424.80 ms\n",
      "11.6G | 2.11466 | 1.03308 | 3.06550:   0%| | 4/19715 [00:08<12:11:17,  2.23s/it]'forward'  310.17 ms\n",
      "11.6G | 1.67700 | 1.05093 | 2.99798:   0%| | 5/19715 [00:09<10:41:34,  1.95s/it]'forward'  385.87 ms\n",
      "11.6G | 2.32132 | 1.02774 | 3.05650:   0%|  | 6/19715 [00:10<9:50:56,  1.80s/it]'forward'  354.13 ms\n",
      "11.6G | 2.51987 | 1.05802 | 3.13098:   0%|  | 7/19715 [00:12<9:14:57,  1.69s/it]'forward'  276.21 ms\n",
      "11.6G | 2.18419 | 1.06888 | 3.14624:   0%|  | 8/19715 [00:13<8:18:33,  1.52s/it]'forward'  309.40 ms\n",
      "11.6G | 2.34815 | 1.01619 | 3.17048:   0%|  | 9/19715 [00:14<8:00:22,  1.46s/it]'forward'  239.42 ms\n",
      "11.6G | 1.52860 | 1.08128 | 3.11442:   0%| | 10/19715 [00:15<7:13:47,  1.32s/it]'forward'  318.66 ms\n",
      "11.6G | 2.13935 | 1.04731 | 3.12098:   0%| | 11/19715 [00:17<7:22:31,  1.35s/it]'forward'  389.79 ms\n",
      "11.6G | 1.92216 | 1.04117 | 3.10785:   0%| | 12/19715 [00:18<7:32:04,  1.38s/it]'forward'  305.45 ms\n",
      "11.6G | 1.97797 | 1.02217 | 3.09956:   0%| | 13/19715 [00:19<7:25:57,  1.36s/it]'forward'  347.81 ms\n",
      "9.54G | 2.47500 | 1.14085 | 3.13644:   0%| | 14/19715 [00:22<8:53:55,  1.63s/it]'forward'  274.12 ms\n",
      "10.3G | 1.50872 | 1.03511 | 3.09693:   0%| | 15/19715 [00:23<8:17:03,  1.51s/it]'forward'  255.16 ms\n",
      "10.3G | 1.69435 | 1.04793 | 3.07477:   0%| | 16/19715 [00:24<7:48:12,  1.43s/it]'forward'  417.34 ms\n",
      "4.65G | 1.48967 | 1.04608 | 3.04306:   0%| | 17/19715 [00:26<8:55:14,  1.63s/it]'forward'  448.08 ms\n",
      "11.5G | 1.84258 | 1.04621 | 3.03449:   0%| | 18/19715 [00:28<8:41:30,  1.59s/it]'forward'  390.05 ms\n",
      "11.1G | 1.72902 | 1.08642 | 3.02296:   0%| | 19/19715 [00:29<8:46:41,  1.60s/it]^C\n",
      "Traceback (most recent call last):\n",
      "  File \"train.py\", line 189, in <module>\n",
      "    main()\n",
      "  File \"train.py\", line 137, in main\n",
      "    classification_loss, regression_loss = model([data['img'].cuda().float(), data['annot']])\n",
      "  File \"/usr/local/lib/python3.7/site-packages/torch/nn/modules/module.py\", line 541, in __call__\n",
      "    result = self.forward(*input, **kwargs)\n",
      "  File \"/usr/local/lib/python3.7/site-packages/torch/nn/parallel/data_parallel.py\", line 150, in forward\n",
      "    return self.module(*inputs[0], **kwargs[0])\n",
      "  File \"/usr/local/lib/python3.7/site-packages/torch/nn/modules/module.py\", line 541, in __call__\n",
      "    result = self.forward(*input, **kwargs)\n",
      "  File \"/mnt/synology/pelvis/projects/tristan/Repositories/EfficientDet/retinanet.py\", line 242, in forward\n",
      "    x2 = self.layer2(x1)\n",
      "  File \"/usr/local/lib/python3.7/site-packages/torch/nn/modules/module.py\", line 541, in __call__\n",
      "    result = self.forward(*input, **kwargs)\n",
      "  File \"/usr/local/lib/python3.7/site-packages/torch/nn/modules/container.py\", line 92, in forward\n",
      "    input = module(input)\n",
      "  File \"/usr/local/lib/python3.7/site-packages/torch/nn/modules/module.py\", line 541, in __call__\n",
      "    result = self.forward(*input, **kwargs)\n",
      "  File \"/mnt/synology/pelvis/projects/tristan/Repositories/EfficientDet/utils.py\", line 61, in forward\n",
      "    out = self.conv1(x)\n",
      "  File \"/usr/local/lib/python3.7/site-packages/torch/nn/modules/module.py\", line 541, in __call__\n",
      "    result = self.forward(*input, **kwargs)\n",
      "  File \"/usr/local/lib/python3.7/site-packages/torch/nn/modules/conv.py\", line 345, in forward\n",
      "    return self.conv2d_forward(input, self.weight)\n",
      "  File \"/usr/local/lib/python3.7/site-packages/torch/nn/modules/conv.py\", line 342, in conv2d_forward\n",
      "    self.padding, self.dilation, self.groups)\n",
      "KeyboardInterrupt\n"
     ]
    }
   ],
   "source": [
    "!python3.7 train.py --dataset coco --coco_path ../../Datasets/COCO2017 --efficientdet"
   ]
  },
  {
   "cell_type": "code",
   "execution_count": 16,
   "metadata": {},
   "outputs": [
    {
     "name": "stdout",
     "output_type": "stream",
     "text": [
      "Requirement already satisfied: cython in /home/user/.local/lib/python3.7/site-packages (0.29.14)\n",
      "\u001b[33mYou are using pip version 18.1, however version 19.3.1 is available.\n",
      "You should consider upgrading via the 'pip install --upgrade pip' command.\u001b[0m\n",
      "Requirement already satisfied: pycocotools in /home/user/.local/lib/python3.7/site-packages (2.0.0)\n",
      "\u001b[33mYou are using pip version 18.1, however version 19.3.1 is available.\n",
      "You should consider upgrading via the 'pip install --upgrade pip' command.\u001b[0m\n",
      "Collecting efficientnet_pytorch\n",
      "  Downloading https://files.pythonhosted.org/packages/82/18/1c4d61eea11b78235ce270a528e099b19af2f1026aadf45e9c645cd75e2f/efficientnet_pytorch-0.5.1.tar.gz\n",
      "Requirement already satisfied: torch in /usr/local/lib/python3.7/site-packages (from efficientnet_pytorch) (1.3.0)\n",
      "Requirement already satisfied: numpy in /usr/local/lib/python3.7/site-packages (from torch->efficientnet_pytorch) (1.15.3)\n",
      "Building wheels for collected packages: efficientnet-pytorch\n",
      "  Running setup.py bdist_wheel for efficientnet-pytorch ... \u001b[?25ldone\n",
      "\u001b[?25h  Stored in directory: /home/user/.cache/pip/wheels/52/0c/8e/58d91f29f0f8cbb45231a145312939a5423dc82c61cc731361\n",
      "Successfully built efficientnet-pytorch\n",
      "Installing collected packages: efficientnet-pytorch\n",
      "Successfully installed efficientnet-pytorch-0.5.1\n",
      "\u001b[33mYou are using pip version 18.1, however version 19.3.1 is available.\n",
      "You should consider upgrading via the 'pip install --upgrade pip' command.\u001b[0m\n"
     ]
    }
   ],
   "source": [
    "!pip3 install cython --user\n",
    "!pip3 install pycocotools --user\n",
    "!pip3 install efficientnet_pytorch --user"
   ]
  },
  {
   "cell_type": "code",
   "execution_count": null,
   "metadata": {},
   "outputs": [],
   "source": []
  }
 ],
 "metadata": {
  "kernelspec": {
   "display_name": "Python 3",
   "language": "python",
   "name": "python3"
  },
  "language_info": {
   "codemirror_mode": {
    "name": "ipython",
    "version": 3
   },
   "file_extension": ".py",
   "mimetype": "text/x-python",
   "name": "python",
   "nbconvert_exporter": "python",
   "pygments_lexer": "ipython3",
   "version": "3.7.1"
  }
 },
 "nbformat": 4,
 "nbformat_minor": 4
}
